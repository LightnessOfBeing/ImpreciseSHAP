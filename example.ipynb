{
 "cells": [
  {
   "cell_type": "code",
   "execution_count": 2,
   "id": "automatic-musical",
   "metadata": {},
   "outputs": [],
   "source": [
    "from sklearn.ensemble import RandomForestClassifier\n",
    "from impreciseshap import ImpreciseShap\n",
    "from sklearn.metrics import accuracy_score\n",
    "import pandas as pd"
   ]
  },
  {
   "cell_type": "code",
   "execution_count": null,
   "outputs": [],
   "source": [
    "!python3 setup.py install --user"
   ],
   "metadata": {
    "collapsed": false,
    "pycharm": {
     "name": "#%%\n"
    }
   }
  },
  {
   "cell_type": "code",
   "execution_count": 2,
   "id": "imperial-madness",
   "metadata": {},
   "outputs": [
    {
     "name": "stdout",
     "output_type": "stream",
     "text": [
      "running install\n",
      "running bdist_egg\n",
      "running egg_info\n",
      "creating impreciseshap.egg-info\n",
      "writing impreciseshap.egg-info/PKG-INFO\n",
      "writing dependency_links to impreciseshap.egg-info/dependency_links.txt\n",
      "writing requirements to impreciseshap.egg-info/requires.txt\n",
      "writing top-level names to impreciseshap.egg-info/top_level.txt\n",
      "writing manifest file 'impreciseshap.egg-info/SOURCES.txt'\n",
      "reading manifest file 'impreciseshap.egg-info/SOURCES.txt'\n",
      "writing manifest file 'impreciseshap.egg-info/SOURCES.txt'\n",
      "installing library code to build/bdist.linux-x86_64/egg\n",
      "running install_lib\n",
      "running build_py\n",
      "creating build\n",
      "creating build/lib\n",
      "creating build/lib/impreciseshap\n",
      "copying impreciseshap/__init__.py -> build/lib/impreciseshap\n",
      "creating build/bdist.linux-x86_64\n",
      "creating build/bdist.linux-x86_64/egg\n",
      "creating build/bdist.linux-x86_64/egg/impreciseshap\n",
      "copying build/lib/impreciseshap/__init__.py -> build/bdist.linux-x86_64/egg/impreciseshap\n",
      "byte-compiling build/bdist.linux-x86_64/egg/impreciseshap/__init__.py to __init__.cpython-38.pyc\n",
      "creating build/bdist.linux-x86_64/egg/EGG-INFO\n",
      "copying impreciseshap.egg-info/PKG-INFO -> build/bdist.linux-x86_64/egg/EGG-INFO\n",
      "copying impreciseshap.egg-info/SOURCES.txt -> build/bdist.linux-x86_64/egg/EGG-INFO\n",
      "copying impreciseshap.egg-info/dependency_links.txt -> build/bdist.linux-x86_64/egg/EGG-INFO\n",
      "copying impreciseshap.egg-info/requires.txt -> build/bdist.linux-x86_64/egg/EGG-INFO\n",
      "copying impreciseshap.egg-info/top_level.txt -> build/bdist.linux-x86_64/egg/EGG-INFO\n",
      "zip_safe flag not set; analyzing archive contents...\n",
      "creating dist\n",
      "creating 'dist/impreciseshap-0.0.1-py3.8.egg' and adding 'build/bdist.linux-x86_64/egg' to it\n",
      "removing 'build/bdist.linux-x86_64/egg' (and everything under it)\n",
      "Processing impreciseshap-0.0.1-py3.8.egg\n",
      "Copying impreciseshap-0.0.1-py3.8.egg to /home/kirill/.local/lib/python3.8/site-packages\n",
      "Adding impreciseshap 0.0.1 to easy-install.pth file\n",
      "\n",
      "Installed /home/kirill/.local/lib/python3.8/site-packages/impreciseshap-0.0.1-py3.8.egg\n",
      "Processing dependencies for impreciseshap==0.0.1\n",
      "Searching for tqdm==4.58.0\n",
      "Best match: tqdm 4.58.0\n",
      "Adding tqdm 4.58.0 to easy-install.pth file\n",
      "Installing tqdm script to /home/kirill/.local/bin\n",
      "\n",
      "Using /home/kirill/.local/lib/python3.8/site-packages\n",
      "Searching for scipy==1.6.1\n",
      "Best match: scipy 1.6.1\n",
      "Adding scipy 1.6.1 to easy-install.pth file\n",
      "\n",
      "Using /home/kirill/.local/lib/python3.8/site-packages\n",
      "Searching for scikit-learn==0.24.1\n",
      "Best match: scikit-learn 0.24.1\n",
      "Adding scikit-learn 0.24.1 to easy-install.pth file\n",
      "\n",
      "Using /home/kirill/.local/lib/python3.8/site-packages\n",
      "Searching for pandas==1.2.1\n",
      "Best match: pandas 1.2.1\n",
      "Adding pandas 1.2.1 to easy-install.pth file\n",
      "\n",
      "Using /home/kirill/.local/lib/python3.8/site-packages\n",
      "Searching for joblib==1.0.1\n",
      "Best match: joblib 1.0.1\n",
      "Adding joblib 1.0.1 to easy-install.pth file\n",
      "\n",
      "Using /home/kirill/.local/lib/python3.8/site-packages\n",
      "Searching for numpy==1.20.1\n",
      "Best match: numpy 1.20.1\n",
      "Adding numpy 1.20.1 to easy-install.pth file\n",
      "Installing f2py script to /home/kirill/.local/bin\n",
      "Installing f2py3 script to /home/kirill/.local/bin\n",
      "Installing f2py3.8 script to /home/kirill/.local/bin\n",
      "\n",
      "Using /home/kirill/.local/lib/python3.8/site-packages\n",
      "Searching for threadpoolctl==2.1.0\n",
      "Best match: threadpoolctl 2.1.0\n",
      "Adding threadpoolctl 2.1.0 to easy-install.pth file\n",
      "\n",
      "Using /home/kirill/.local/lib/python3.8/site-packages\n",
      "Searching for python-dateutil==2.8.1\n",
      "Best match: python-dateutil 2.8.1\n",
      "Adding python-dateutil 2.8.1 to easy-install.pth file\n",
      "\n",
      "Using /home/kirill/.local/lib/python3.8/site-packages\n",
      "Searching for pytz==2021.1\n",
      "Best match: pytz 2021.1\n",
      "Adding pytz 2021.1 to easy-install.pth file\n",
      "\n",
      "Using /home/kirill/.local/lib/python3.8/site-packages\n",
      "Searching for six==1.14.0\n",
      "Best match: six 1.14.0\n",
      "Adding six 1.14.0 to easy-install.pth file\n",
      "\n",
      "Using /usr/lib/python3/dist-packages\n",
      "Finished processing dependencies for impreciseshap==0.0.1\n"
     ]
    }
   ],
   "source": [
    "df = pd.read_csv(\"./data/clust4_1000_250.csv\")\n",
    "df.head()"
   ]
  },
  {
   "cell_type": "code",
   "execution_count": 3,
   "id": "scientific-consequence",
   "metadata": {},
   "outputs": [
    {
     "data": {
      "text/html": [
       "<div>\n",
       "<style scoped>\n",
       "    .dataframe tbody tr th:only-of-type {\n",
       "        vertical-align: middle;\n",
       "    }\n",
       "\n",
       "    .dataframe tbody tr th {\n",
       "        vertical-align: top;\n",
       "    }\n",
       "\n",
       "    .dataframe thead th {\n",
       "        text-align: right;\n",
       "    }\n",
       "</style>\n",
       "<table border=\"1\" class=\"dataframe\">\n",
       "  <thead>\n",
       "    <tr style=\"text-align: right;\">\n",
       "      <th></th>\n",
       "      <th>x</th>\n",
       "      <th>y</th>\n",
       "      <th>class</th>\n",
       "      <th>is_test</th>\n",
       "    </tr>\n",
       "  </thead>\n",
       "  <tbody>\n",
       "    <tr>\n",
       "      <th>0</th>\n",
       "      <td>3.350270</td>\n",
       "      <td>1.743714</td>\n",
       "      <td>2</td>\n",
       "      <td>True</td>\n",
       "    </tr>\n",
       "    <tr>\n",
       "      <th>1</th>\n",
       "      <td>1.774558</td>\n",
       "      <td>1.769567</td>\n",
       "      <td>0</td>\n",
       "      <td>True</td>\n",
       "    </tr>\n",
       "    <tr>\n",
       "      <th>2</th>\n",
       "      <td>3.218869</td>\n",
       "      <td>1.223416</td>\n",
       "      <td>2</td>\n",
       "      <td>False</td>\n",
       "    </tr>\n",
       "    <tr>\n",
       "      <th>3</th>\n",
       "      <td>3.527773</td>\n",
       "      <td>3.876079</td>\n",
       "      <td>3</td>\n",
       "      <td>False</td>\n",
       "    </tr>\n",
       "    <tr>\n",
       "      <th>4</th>\n",
       "      <td>2.008688</td>\n",
       "      <td>3.151379</td>\n",
       "      <td>1</td>\n",
       "      <td>False</td>\n",
       "    </tr>\n",
       "  </tbody>\n",
       "</table>\n",
       "</div>"
      ],
      "text/plain": [
       "          x         y  class  is_test\n",
       "0  3.350270  1.743714      2     True\n",
       "1  1.774558  1.769567      0     True\n",
       "2  3.218869  1.223416      2    False\n",
       "3  3.527773  3.876079      3    False\n",
       "4  2.008688  3.151379      1    False"
      ]
     },
     "execution_count": 3,
     "metadata": {},
     "output_type": "execute_result"
    }
   ],
   "source": [
    "df = pd.read_csv(\"./data/clust4_1000_250.csv\")\n",
    "df.head()"
   ]
  },
  {
   "cell_type": "code",
   "execution_count": 4,
   "id": "stone-membership",
   "metadata": {},
   "outputs": [],
   "source": [
    "df_train = df[df['is_test'] == False]\n",
    "df_test = df[df['is_test'] == True]\n",
    "X_train, y_train = df_train[['x', 'y']], df_train[['class']]\n",
    "X_test, y_test = df_test[['x', 'y']], df_test[['class']]"
   ]
  },
  {
   "cell_type": "code",
   "execution_count": 5,
   "id": "intended-findings",
   "metadata": {},
   "outputs": [
    {
     "name": "stdout",
     "output_type": "stream",
     "text": [
      "Accuracy = 97.2%\n"
     ]
    },
    {
     "name": "stderr",
     "output_type": "stream",
     "text": [
      "<ipython-input-5-77d890f662b1>:1: DataConversionWarning: A column-vector y was passed when a 1d array was expected. Please change the shape of y to (n_samples,), for example using ravel().\n",
      "  model = RandomForestClassifier(max_depth=8, max_features=2, random_state=40).fit(X_train, y_train)\n"
     ]
    }
   ],
   "source": [
    "model = RandomForestClassifier(max_depth=8, max_features=2, random_state=40).fit(X_train, y_train)\n",
    "y_pred = model.predict(X_test)\n",
    "print(f\"Accuracy = {accuracy_score(y_test, y_pred)*100}%\")"
   ]
  },
  {
   "cell_type": "code",
   "execution_count": 6,
   "id": "simplified-marijuana",
   "metadata": {},
   "outputs": [],
   "source": [
    "point_to_explain = pd.DataFrame({'x':[1.0], 'y':[1.0]})"
   ]
  },
  {
   "cell_type": "code",
   "execution_count": 7,
   "id": "alpine-heavy",
   "metadata": {},
   "outputs": [],
   "source": [
    "explainer = ImpreciseShap(model=model.predict_proba, masker=X_train, eps=0.15)\n",
    "result_dataframe = explainer.calculate_shapley_values(point_to_explain)"
   ]
  },
  {
   "cell_type": "code",
   "execution_count": 8,
   "id": "documentary-baptist",
   "metadata": {},
   "outputs": [
    {
     "data": {
      "text/html": [
       "<div>\n",
       "<style scoped>\n",
       "    .dataframe tbody tr th:only-of-type {\n",
       "        vertical-align: middle;\n",
       "    }\n",
       "\n",
       "    .dataframe tbody tr th {\n",
       "        vertical-align: top;\n",
       "    }\n",
       "\n",
       "    .dataframe thead th {\n",
       "        text-align: right;\n",
       "    }\n",
       "</style>\n",
       "<table border=\"1\" class=\"dataframe\">\n",
       "  <thead>\n",
       "    <tr style=\"text-align: right;\">\n",
       "      <th></th>\n",
       "      <th>x</th>\n",
       "      <th>y</th>\n",
       "      <th>phi(x)_l</th>\n",
       "      <th>phi(x)_u</th>\n",
       "      <th>phi(y)_l</th>\n",
       "      <th>phi(y)_u</th>\n",
       "    </tr>\n",
       "  </thead>\n",
       "  <tbody>\n",
       "    <tr>\n",
       "      <th>0</th>\n",
       "      <td>1.0</td>\n",
       "      <td>1.0</td>\n",
       "      <td>0.118349</td>\n",
       "      <td>0.493349</td>\n",
       "      <td>0.071072</td>\n",
       "      <td>0.446072</td>\n",
       "    </tr>\n",
       "  </tbody>\n",
       "</table>\n",
       "</div>"
      ],
      "text/plain": [
       "     x    y  phi(x)_l  phi(x)_u  phi(y)_l  phi(y)_u\n",
       "0  1.0  1.0  0.118349  0.493349  0.071072  0.446072"
      ]
     },
     "execution_count": 8,
     "metadata": {},
     "output_type": "execute_result"
    }
   ],
   "source": [
    "result_dataframe[['x', 'y', 'phi(x)_l', 'phi(x)_u', 'phi(y)_l', 'phi(y)_u']]"
   ]
  },
  {
   "cell_type": "code",
   "execution_count": null,
   "id": "integrated-innocent",
   "metadata": {},
   "outputs": [],
   "source": []
  }
 ],
 "metadata": {
  "kernelspec": {
   "display_name": "Python 3",
   "language": "python",
   "name": "python3"
  },
  "language_info": {
   "codemirror_mode": {
    "name": "ipython",
    "version": 3
   },
   "file_extension": ".py",
   "mimetype": "text/x-python",
   "name": "python",
   "nbconvert_exporter": "python",
   "pygments_lexer": "ipython3",
   "version": "3.8.5"
  }
 },
 "nbformat": 4,
 "nbformat_minor": 5
}