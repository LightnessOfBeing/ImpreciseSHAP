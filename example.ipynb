{
 "cells": [
  {
   "cell_type": "code",
   "execution_count": 24,
   "id": "automatic-musical",
   "metadata": {},
   "outputs": [],
   "source": [
    "from sklearn.ensemble import RandomForestClassifier\n",
    "from impreciseshap import ImpreciseShap\n",
    "from sklearn.metrics import accuracy_score\n",
    "import pandas as pd"
   ]
  },
  {
   "cell_type": "code",
   "execution_count": 25,
   "id": "scientific-consequence",
   "metadata": {},
   "outputs": [
    {
     "data": {
      "text/html": [
       "<div>\n",
       "<style scoped>\n",
       "    .dataframe tbody tr th:only-of-type {\n",
       "        vertical-align: middle;\n",
       "    }\n",
       "\n",
       "    .dataframe tbody tr th {\n",
       "        vertical-align: top;\n",
       "    }\n",
       "\n",
       "    .dataframe thead th {\n",
       "        text-align: right;\n",
       "    }\n",
       "</style>\n",
       "<table border=\"1\" class=\"dataframe\">\n",
       "  <thead>\n",
       "    <tr style=\"text-align: right;\">\n",
       "      <th></th>\n",
       "      <th>x</th>\n",
       "      <th>y</th>\n",
       "      <th>class</th>\n",
       "      <th>is_test</th>\n",
       "    </tr>\n",
       "  </thead>\n",
       "  <tbody>\n",
       "    <tr>\n",
       "      <th>0</th>\n",
       "      <td>3.350270</td>\n",
       "      <td>1.743714</td>\n",
       "      <td>2</td>\n",
       "      <td>True</td>\n",
       "    </tr>\n",
       "    <tr>\n",
       "      <th>1</th>\n",
       "      <td>1.774558</td>\n",
       "      <td>1.769567</td>\n",
       "      <td>0</td>\n",
       "      <td>True</td>\n",
       "    </tr>\n",
       "    <tr>\n",
       "      <th>2</th>\n",
       "      <td>3.218869</td>\n",
       "      <td>1.223416</td>\n",
       "      <td>2</td>\n",
       "      <td>False</td>\n",
       "    </tr>\n",
       "    <tr>\n",
       "      <th>3</th>\n",
       "      <td>3.527773</td>\n",
       "      <td>3.876079</td>\n",
       "      <td>3</td>\n",
       "      <td>False</td>\n",
       "    </tr>\n",
       "    <tr>\n",
       "      <th>4</th>\n",
       "      <td>2.008688</td>\n",
       "      <td>3.151379</td>\n",
       "      <td>1</td>\n",
       "      <td>False</td>\n",
       "    </tr>\n",
       "  </tbody>\n",
       "</table>\n",
       "</div>"
      ],
      "text/plain": [
       "          x         y  class  is_test\n",
       "0  3.350270  1.743714      2     True\n",
       "1  1.774558  1.769567      0     True\n",
       "2  3.218869  1.223416      2    False\n",
       "3  3.527773  3.876079      3    False\n",
       "4  2.008688  3.151379      1    False"
      ]
     },
     "execution_count": 25,
     "metadata": {},
     "output_type": "execute_result"
    }
   ],
   "source": [
    "df = pd.read_csv(\"./data/clust4_1000_250.csv\")\n",
    "df.head()"
   ]
  },
  {
   "cell_type": "code",
   "execution_count": 26,
   "id": "stone-membership",
   "metadata": {},
   "outputs": [],
   "source": [
    "df_train = df[df['is_test'] == False]\n",
    "df_test = df[df['is_test'] == True]\n",
    "X_train, y_train = df_train[['x', 'y']], df_train[['class']]\n",
    "X_test, y_test = df_test[['x', 'y']], df_test[['class']]"
   ]
  },
  {
   "cell_type": "code",
   "execution_count": 29,
   "id": "intended-findings",
   "metadata": {},
   "outputs": [
    {
     "name": "stdout",
     "output_type": "stream",
     "text": [
      "Accuracy = 97.2%\n"
     ]
    },
    {
     "name": "stderr",
     "output_type": "stream",
     "text": [
      "<ipython-input-29-77d890f662b1>:1: DataConversionWarning: A column-vector y was passed when a 1d array was expected. Please change the shape of y to (n_samples,), for example using ravel().\n",
      "  model = RandomForestClassifier(max_depth=8, max_features=2, random_state=40).fit(X_train, y_train)\n"
     ]
    }
   ],
   "source": [
    "model = RandomForestClassifier(max_depth=8, max_features=2, random_state=40).fit(X_train, y_train)\n",
    "y_pred = model.predict(X_test)\n",
    "print(f\"Accuracy = {accuracy_score(y_test, y_pred)*100}%\")"
   ]
  },
  {
   "cell_type": "code",
   "execution_count": 30,
   "id": "simplified-marijuana",
   "metadata": {},
   "outputs": [],
   "source": [
    "explanation_point = pd.DataFrame({'x':[1.0], 'y':[1.0]})"
   ]
  },
  {
   "cell_type": "code",
   "execution_count": 31,
   "id": "alpine-heavy",
   "metadata": {},
   "outputs": [],
   "source": [
    "explainer = ImpreciseShap(model=model.predict_proba, masker=X_train, eps=0.15)\n",
    "result_dataframe = explainer.calculate_shapley_values(explanation_point)"
   ]
  },
  {
   "cell_type": "code",
   "execution_count": 34,
   "id": "documentary-baptist",
   "metadata": {},
   "outputs": [
    {
     "data": {
      "text/html": [
       "<div>\n",
       "<style scoped>\n",
       "    .dataframe tbody tr th:only-of-type {\n",
       "        vertical-align: middle;\n",
       "    }\n",
       "\n",
       "    .dataframe tbody tr th {\n",
       "        vertical-align: top;\n",
       "    }\n",
       "\n",
       "    .dataframe thead th {\n",
       "        text-align: right;\n",
       "    }\n",
       "</style>\n",
       "<table border=\"1\" class=\"dataframe\">\n",
       "  <thead>\n",
       "    <tr style=\"text-align: right;\">\n",
       "      <th></th>\n",
       "      <th>x</th>\n",
       "      <th>y</th>\n",
       "      <th>phi(x)_l</th>\n",
       "      <th>phi(x)_u</th>\n",
       "      <th>phi(y)_l</th>\n",
       "      <th>phi(y)_u</th>\n",
       "    </tr>\n",
       "  </thead>\n",
       "  <tbody>\n",
       "    <tr>\n",
       "      <th>0</th>\n",
       "      <td>1.0</td>\n",
       "      <td>1.0</td>\n",
       "      <td>0.118349</td>\n",
       "      <td>0.493349</td>\n",
       "      <td>0.071072</td>\n",
       "      <td>0.446072</td>\n",
       "    </tr>\n",
       "  </tbody>\n",
       "</table>\n",
       "</div>"
      ],
      "text/plain": [
       "     x    y  phi(x)_l  phi(x)_u  phi(y)_l  phi(y)_u\n",
       "0  1.0  1.0  0.118349  0.493349  0.071072  0.446072"
      ]
     },
     "execution_count": 34,
     "metadata": {},
     "output_type": "execute_result"
    }
   ],
   "source": [
    "result_dataframe[['x', 'y', 'phi(x)_l', 'phi(x)_u', 'phi(y)_l', 'phi(y)_u']]"
   ]
  },
  {
   "cell_type": "code",
   "execution_count": null,
   "id": "adjacent-notification",
   "metadata": {},
   "outputs": [],
   "source": []
  }
 ],
 "metadata": {
  "kernelspec": {
   "display_name": "Python 3",
   "language": "python",
   "name": "python3"
  },
  "language_info": {
   "codemirror_mode": {
    "name": "ipython",
    "version": 3
   },
   "file_extension": ".py",
   "mimetype": "text/x-python",
   "name": "python",
   "nbconvert_exporter": "python",
   "pygments_lexer": "ipython3",
   "version": "3.8.5"
  }
 },
 "nbformat": 4,
 "nbformat_minor": 5
}