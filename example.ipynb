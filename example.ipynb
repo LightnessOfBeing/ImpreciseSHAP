{
 "cells": [
  {
   "cell_type": "code",
   "execution_count": null,
   "id": "automatic-musical",
   "metadata": {},
   "outputs": [],
   "source": [
    "from sklearn.ensemble import RandomForestClassifier\n",
    "from impreciseshap import ImpreciseShap\n",
    "from sklearn.metrics import accuracy_score\n",
    "import pandas as pd"
   ]
  },
  {
   "cell_type": "code",
   "execution_count": null,
   "id": "scientific-consequence",
   "metadata": {},
   "outputs": [],
   "source": [
    "df = pd.read_csv(\"./data/clust4_1000_250.csv\")\n",
    "df.head()"
   ]
  },
  {
   "cell_type": "code",
   "execution_count": null,
   "id": "stone-membership",
   "metadata": {},
   "outputs": [],
   "source": [
    "df_train = df[df['is_test'] == False]\n",
    "df_test = df[df['is_test'] == True]\n",
    "X_train, y_train = df_train[['x', 'y']], df_train[['class']]\n",
    "X_test, y_test = df_test[['x', 'y']], df_test[['class']]"
   ]
  },
  {
   "cell_type": "code",
   "execution_count": null,
   "id": "intended-findings",
   "metadata": {},
   "outputs": [],
   "source": [
    "model = RandomForestClassifier(max_depth=8, max_features=2, random_state=40).fit(X_train, y_train)\n",
    "y_pred = model.predict(X_test)\n",
    "print(f\"Accuracy = {accuracy_score(y_test, y_pred)*100}%\")"
   ]
  },
  {
   "cell_type": "code",
   "execution_count": null,
   "id": "simplified-marijuana",
   "metadata": {},
   "outputs": [],
   "source": [
    "point_to_explain = pd.DataFrame({'x':[1.0], 'y':[1.0]})"
   ]
  },
  {
   "cell_type": "code",
   "execution_count": null,
   "id": "alpine-heavy",
   "metadata": {},
   "outputs": [],
   "source": [
    "explainer = ImpreciseShap(model=model.predict_proba, masker=X_train, eps=0.15)\n",
    "result_dataframe = explainer.calculate_shapley_values(point_to_explain)"
   ]
  },
  {
   "cell_type": "code",
   "execution_count": null,
   "id": "documentary-baptist",
   "metadata": {},
   "outputs": [],
   "source": [
    "result_dataframe[['x', 'y', 'phi(x)_l', 'phi(x)_u', 'phi(y)_l', 'phi(y)_u']]"
   ]
  },
  {
   "cell_type": "code",
   "execution_count": null,
   "id": "adjacent-notification",
   "metadata": {},
   "outputs": [],
   "source": [
    "!pip free"
   ]
  }
 ],
 "metadata": {
  "kernelspec": {
   "display_name": "Python 3",
   "language": "python",
   "name": "python3"
  },
  "language_info": {
   "codemirror_mode": {
    "name": "ipython",
    "version": 3
   },
   "file_extension": ".py",
   "mimetype": "text/x-python",
   "name": "python",
   "nbconvert_exporter": "python",
   "pygments_lexer": "ipython3",
   "version": "3.8.5"
  }
 },
 "nbformat": 4,
 "nbformat_minor": 5
}